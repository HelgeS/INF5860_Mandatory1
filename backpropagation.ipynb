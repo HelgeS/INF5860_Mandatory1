{
 "cells": [
  {
   "cell_type": "markdown",
   "metadata": {
    "deletable": true,
    "editable": true
   },
   "source": [
    "# Fully-Connected Neural Nets\n",
    "In this exercise we will implement fully-connected networks using a modular approach. For each layer we will implement a `forward` and a `backward` function. The `forward` function will receive inputs, weights, and other parameters and will return both an output and a `cache` object storing data needed for the backward pass, like this:\n",
    "\n",
    "```python\n",
    "def layer_forward(x, w):\n",
    "  \"\"\" Receive inputs x and weights w \"\"\"\n",
    "  # Do some computations ...\n",
    "  z = # ... some intermediate value\n",
    "  # Do some more computations ...\n",
    "  out = # the output\n",
    "   \n",
    "  cache = (x, w, z, out) # Values we need to compute gradients\n",
    "   \n",
    "  return out, cache\n",
    "```\n",
    "\n",
    "The backward pass will receive upstream derivatives and the `cache` object, and will return gradients with respect to the inputs and weights, like this:\n",
    "\n",
    "```python\n",
    "def layer_backward(dout, cache):\n",
    "  \"\"\"\n",
    "  Receive derivative of loss with respect to outputs and cache,\n",
    "  and compute derivative with respect to inputs.\n",
    "  \"\"\"\n",
    "  # Unpack cache values\n",
    "  x, w, z, out = cache\n",
    "  \n",
    "  # Use values in cache to compute derivatives\n",
    "  dx = # Derivative of loss with respect to x\n",
    "  dw = # Derivative of loss with respect to w\n",
    "  \n",
    "  return dx, dw\n",
    "```\n",
    "\n",
    "After implementing a bunch of layers this way, we will be able to easily combine them to build classifiers with different architectures.\n",
    "\n",
    "In addition to implementing fully-connected networks of arbitrary depth, we will also explore different update rules for optimization, and introduce Dropout as a regularizer and Batch Normalization as a tool to more efficiently optimize deep networks.\n",
    "  "
   ]
  },
  {
   "cell_type": "code",
   "execution_count": 147,
   "metadata": {
    "collapsed": false,
    "deletable": true,
    "editable": true
   },
   "outputs": [
    {
     "name": "stdout",
     "output_type": "stream",
     "text": [
      "The autoreload extension is already loaded. To reload it, use:\n",
      "  %reload_ext autoreload\n"
     ]
    }
   ],
   "source": [
    "# As usual, a bit of setup\n",
    "\n",
    "import time\n",
    "import numpy as np\n",
    "import matplotlib.pyplot as plt\n",
    "from code.classifiers.fc_net import *\n",
    "from code.data_utils import get_CIFAR10_data\n",
    "from code.gradient_check import eval_numerical_gradient, eval_numerical_gradient_array\n",
    "from code.solver import Solver\n",
    "\n",
    "%matplotlib inline\n",
    "plt.rcParams['figure.figsize'] = (10.0, 8.0) # set default size of plots\n",
    "plt.rcParams['image.interpolation'] = 'nearest'\n",
    "plt.rcParams['image.cmap'] = 'gray'\n",
    "\n",
    "# for auto-reloading external modules\n",
    "# see http://stackoverflow.com/questions/1907993/autoreload-of-modules-in-ipython\n",
    "%load_ext autoreload\n",
    "%autoreload 2\n",
    "\n",
    "def rel_error(x, y):\n",
    "  \"\"\" returns relative error \"\"\"\n",
    "  return np.max(np.abs(x - y) / (np.maximum(1e-8, np.abs(x) + np.abs(y))))"
   ]
  },
  {
   "cell_type": "code",
   "execution_count": 148,
   "metadata": {
    "collapsed": false,
    "deletable": true,
    "editable": true
   },
   "outputs": [
    {
     "name": "stdout",
     "output_type": "stream",
     "text": [
      "X_val:  (1000, 3, 32, 32)\n",
      "X_train:  (49000, 3, 32, 32)\n",
      "X_test:  (1000, 3, 32, 32)\n",
      "y_val:  (1000,)\n",
      "y_train:  (49000,)\n",
      "y_test:  (1000,)\n"
     ]
    }
   ],
   "source": [
    "# Load the (preprocessed) CIFAR10 data.\n",
    "\n",
    "data = get_CIFAR10_data()\n",
    "for k, v in data.iteritems():\n",
    "  print '%s: ' % k, v.shape"
   ]
  },
  {
   "cell_type": "markdown",
   "metadata": {
    "deletable": true,
    "editable": true
   },
   "source": [
    "# Affine layer: foward\n",
    "Open the file `code/layers.py` and implement the `affine_forward` function.\n",
    "\n",
    "Once you are done you can test your implementaion by running the following:"
   ]
  },
  {
   "cell_type": "code",
   "execution_count": 149,
   "metadata": {
    "collapsed": false,
    "deletable": true,
    "editable": true
   },
   "outputs": [
    {
     "name": "stdout",
     "output_type": "stream",
     "text": [
      "Testing affine_forward function:\n",
      "difference:  9.76984772881e-10\n"
     ]
    }
   ],
   "source": [
    "# Test the affine_forward function\n",
    "\n",
    "num_inputs = 2\n",
    "input_shape = (4, 5, 6)\n",
    "output_dim = 3\n",
    "\n",
    "input_size = num_inputs * np.prod(input_shape)\n",
    "weight_size = output_dim * np.prod(input_shape)\n",
    "\n",
    "x = np.linspace(-0.1, 0.5, num=input_size).reshape(num_inputs, *input_shape)\n",
    "w = np.linspace(-0.2, 0.3, num=weight_size).reshape(np.prod(input_shape), output_dim)\n",
    "b = np.linspace(-0.3, 0.1, num=output_dim)\n",
    "\n",
    "out, _ = affine_forward(x, w, b)\n",
    "correct_out = np.array([[ 1.49834967,  1.70660132,  1.91485297],\n",
    "                        [ 3.25553199,  3.5141327,   3.77273342]])\n",
    "\n",
    "# Compare your output with ours. The error should be around 1e-9.\n",
    "print 'Testing affine_forward function:'\n",
    "print 'difference: ', rel_error(out, correct_out)"
   ]
  },
  {
   "cell_type": "markdown",
   "metadata": {
    "deletable": true,
    "editable": true
   },
   "source": [
    "# Affine layer: backward\n",
    "Now implement the `affine_backward` function and test your implementation using numeric gradient checking."
   ]
  },
  {
   "cell_type": "code",
   "execution_count": 151,
   "metadata": {
    "collapsed": false,
    "deletable": true,
    "editable": true,
    "scrolled": true
   },
   "outputs": [
    {
     "name": "stdout",
     "output_type": "stream",
     "text": [
      "Testing affine_backward function:\n",
      "dx error:  2.56115152558e-10\n",
      "dw error:  4.03965514029e-11\n",
      "db error:  3.21653968679e-11\n"
     ]
    }
   ],
   "source": [
    "# Test the affine_backward function\n",
    "\n",
    "x = np.random.randn(10, 2, 3)\n",
    "w = np.random.randn(6, 5)\n",
    "b = np.random.randn(5)\n",
    "dout = np.random.randn(10, 5)\n",
    "\n",
    "dx_num = eval_numerical_gradient_array(lambda x: affine_forward(x, w, b)[0], x, dout)\n",
    "dw_num = eval_numerical_gradient_array(lambda w: affine_forward(x, w, b)[0], w, dout)\n",
    "db_num = eval_numerical_gradient_array(lambda b: affine_forward(x, w, b)[0], b, dout)\n",
    "\n",
    "_, cache = affine_forward(x, w, b)\n",
    "dx, dw, db = affine_backward(dout, cache)\n",
    "# The error should be around 1e-10\n",
    "print 'Testing affine_backward function:'\n",
    "print 'dx error: ', rel_error(dx_num, dx)\n",
    "print 'dw error: ', rel_error(dw_num, dw)\n",
    "print 'db error: ', rel_error(db_num, db)"
   ]
  },
  {
   "cell_type": "markdown",
   "metadata": {
    "deletable": true,
    "editable": true
   },
   "source": [
    "# ReLU layer: forward\n",
    "Implement the forward pass for the ReLU activation function in the `relu_forward` function and test your implementation using the following:"
   ]
  },
  {
   "cell_type": "code",
   "execution_count": 156,
   "metadata": {
    "collapsed": false,
    "deletable": true,
    "editable": true
   },
   "outputs": [
    {
     "name": "stdout",
     "output_type": "stream",
     "text": [
      "[[ 0.          0.          0.          0.        ]\n",
      " [ 0.          0.          0.04545455  0.13636364]\n",
      " [ 0.22727273  0.31818182  0.40909091  0.5       ]]\n",
      "Testing relu_forward function:\n",
      "difference:  4.99999979802e-08\n"
     ]
    }
   ],
   "source": [
    "# Test the relu_forward function\n",
    "\n",
    "x = np.linspace(-0.5, 0.5, num=12).reshape(3, 4)\n",
    "\n",
    "out, _ = relu_forward(x)\n",
    "correct_out = np.array([[ 0.,          0.,          0.,          0.,        ],\n",
    "                        [ 0.,          0.,          0.04545455,  0.13636364,],\n",
    "                        [ 0.22727273,  0.31818182,  0.40909091,  0.5,       ]])\n",
    "print out\n",
    "# Compare your output with ours. The error should be around 1e-8\n",
    "print 'Testing relu_forward function:'\n",
    "print 'difference: ', rel_error(out, correct_out)"
   ]
  },
  {
   "cell_type": "markdown",
   "metadata": {
    "deletable": true,
    "editable": true
   },
   "source": [
    "# ReLU layer: backward\n",
    "Now implement the backward pass for the ReLU activation function in the `relu_backward` function and test your implementation using numeric gradient checking:"
   ]
  },
  {
   "cell_type": "code",
   "execution_count": 170,
   "metadata": {
    "collapsed": false,
    "deletable": true,
    "editable": true
   },
   "outputs": [
    {
     "name": "stdout",
     "output_type": "stream",
     "text": [
      "Testing relu_backward function:\n",
      "dx error:  3.27561660783e-12\n"
     ]
    }
   ],
   "source": [
    "x = np.random.randn(10, 10)\n",
    "dout = np.random.randn(*x.shape)\n",
    "\n",
    "dx_num = eval_numerical_gradient_array(lambda x: relu_forward(x)[0], x, dout)\n",
    "\n",
    "_, cache = relu_forward(x)\n",
    "dx = relu_backward(dout, cache)\n",
    "\n",
    "# The error should be around 1e-12\n",
    "print 'Testing relu_backward function:'\n",
    "print 'dx error: ', rel_error(dx_num, dx)"
   ]
  },
  {
   "cell_type": "markdown",
   "metadata": {
    "deletable": true,
    "editable": true
   },
   "source": [
    "# \"Sandwich\" layers\n",
    "There are some common patterns of layers that are frequently used in neural nets. For example, affine layers are frequently followed by a ReLU nonlinearity. To make these common patterns easy, we define several convenience layers in the file `cs231n/layer_utils.py`.\n",
    "\n",
    "For now take a look at the `affine_relu_forward` and `affine_relu_backward` functions, and run the following to numerically gradient check the backward pass:"
   ]
  },
  {
   "cell_type": "code",
   "execution_count": 171,
   "metadata": {
    "collapsed": false,
    "deletable": true,
    "editable": true
   },
   "outputs": [
    {
     "name": "stdout",
     "output_type": "stream",
     "text": [
      "Testing affine_relu_forward:\n",
      "dx error:  1.62034539936e-10\n",
      "dw error:  2.64902166092e-10\n",
      "db error:  2.28767568263e-11\n"
     ]
    }
   ],
   "source": [
    "from code.layer_utils import affine_relu_forward, affine_relu_backward\n",
    "\n",
    "x = np.random.randn(2, 3, 4)\n",
    "w = np.random.randn(12, 10)\n",
    "b = np.random.randn(10)\n",
    "dout = np.random.randn(2, 10)\n",
    "\n",
    "out, cache = affine_relu_forward(x, w, b)\n",
    "dx, dw, db = affine_relu_backward(dout, cache)\n",
    "\n",
    "dx_num = eval_numerical_gradient_array(lambda x: affine_relu_forward(x, w, b)[0], x, dout)\n",
    "dw_num = eval_numerical_gradient_array(lambda w: affine_relu_forward(x, w, b)[0], w, dout)\n",
    "db_num = eval_numerical_gradient_array(lambda b: affine_relu_forward(x, w, b)[0], b, dout)\n",
    "\n",
    "print 'Testing affine_relu_forward:'\n",
    "print 'dx error: ', rel_error(dx_num, dx)\n",
    "print 'dw error: ', rel_error(dw_num, dw)\n",
    "print 'db error: ', rel_error(db_num, db)"
   ]
  },
  {
   "cell_type": "markdown",
   "metadata": {
    "deletable": true,
    "editable": true
   },
   "source": [
    "# Softmax Loss layer\n",
    "Open the file `code/classifiers/layers.py` and implement the `softmax_loss` function. This is similar\n",
    "to the softmax loss you implemented in the `code/classifiers/softmax.py`, but in this implementation you only have to worry about **W** and **regularization**, as this is already handled in the previous layers.\n",
    "\n",
    "You can test that the implementations are correct by running the following:"
   ]
  },
  {
   "cell_type": "code",
   "execution_count": 176,
   "metadata": {
    "collapsed": false,
    "deletable": true,
    "editable": true
   },
   "outputs": [
    {
     "name": "stdout",
     "output_type": "stream",
     "text": [
      "\n",
      "Testing softmax_loss:\n",
      "loss:  2.30266991825\n",
      "dx error:  8.4563509341e-09\n"
     ]
    }
   ],
   "source": [
    "num_classes, num_inputs = 10, 50\n",
    "x = 0.001 * np.random.randn(num_inputs, num_classes)\n",
    "y = np.random.randint(num_classes, size=num_inputs)\n",
    "\n",
    "dx_num = eval_numerical_gradient(lambda x: softmax_loss(x, y)[0], x, verbose=False)\n",
    "loss, dx = softmax_loss(x, y)\n",
    "\n",
    "# Test softmax_loss function. Loss should be 2.3 and dx error should be 1e-8\n",
    "print '\\nTesting softmax_loss:'\n",
    "print 'loss: ', loss\n",
    "print 'dx error: ', rel_error(dx_num, dx)"
   ]
  },
  {
   "cell_type": "markdown",
   "metadata": {
    "deletable": true,
    "editable": true
   },
   "source": [
    "# Two-layer network\n",
    "In the `two_layer_net.ipynb` notebook you implemented a two-layer neural network in a single monolithic class. Now that you have implemented modular versions of the necessary layers, you will reimplement the two layer network using these modular implementations.\n",
    "\n",
    "Open the file `code/classifiers/fc_net.py` and complete the implementation of the `TwoLayerNet` class. This class will serve as a model for the other networks you will implement in this assignment, so read through it to make sure you understand the API. You can run the cell below to test your implementation."
   ]
  },
  {
   "cell_type": "code",
   "execution_count": 177,
   "metadata": {
    "collapsed": false,
    "deletable": true,
    "editable": true,
    "scrolled": true
   },
   "outputs": [
    {
     "name": "stdout",
     "output_type": "stream",
     "text": [
      "Testing initialization ... \n",
      "Testing test-time forward pass ... \n",
      "Testing training loss (no regularization)\n",
      "Running numeric gradient check with reg =  0.0\n",
      "W1 relative error: 1.52e-08\n",
      "W2 relative error: 3.29e-10\n",
      "b1 relative error: 6.55e-09\n",
      "b2 relative error: 4.33e-10\n",
      "Running numeric gradient check with reg =  0.7\n",
      "W1 relative error: 2.53e-07\n",
      "W2 relative error: 7.98e-08\n",
      "b1 relative error: 1.09e-09\n",
      "b2 relative error: 9.09e-10\n"
     ]
    }
   ],
   "source": [
    "N, D, H, C = 3, 5, 50, 7\n",
    "X = np.random.randn(N, D)\n",
    "y = np.random.randint(C, size=N)\n",
    "\n",
    "std = 1e-2\n",
    "model = TwoLayerNet(input_dim=D, hidden_dim=H, num_classes=C, weight_scale=std)\n",
    "\n",
    "print 'Testing initialization ... '\n",
    "W1_std = abs(model.params['W1'].std() - std)\n",
    "b1 = model.params['b1']\n",
    "W2_std = abs(model.params['W2'].std() - std)\n",
    "b2 = model.params['b2']\n",
    "assert W1_std < std / 10, 'First layer weights do not seem right'\n",
    "assert np.all(b1 == 0), 'First layer biases do not seem right'\n",
    "assert W2_std < std / 10, 'Second layer weights do not seem right'\n",
    "assert np.all(b2 == 0), 'Second layer biases do not seem right'\n",
    "\n",
    "print 'Testing test-time forward pass ... '\n",
    "model.params['W1'] = np.linspace(-0.7, 0.3, num=D*H).reshape(D, H)\n",
    "model.params['b1'] = np.linspace(-0.1, 0.9, num=H)\n",
    "model.params['W2'] = np.linspace(-0.3, 0.4, num=H*C).reshape(H, C)\n",
    "model.params['b2'] = np.linspace(-0.9, 0.1, num=C)\n",
    "X = np.linspace(-5.5, 4.5, num=N*D).reshape(D, N).T\n",
    "scores = model.loss(X)\n",
    "correct_scores = np.asarray(\n",
    "  [[11.53165108,  12.2917344,   13.05181771,  13.81190102,  14.57198434, 15.33206765,  16.09215096],\n",
    "   [12.05769098,  12.74614105,  13.43459113,  14.1230412,   14.81149128, 15.49994135,  16.18839143],\n",
    "   [12.58373087,  13.20054771,  13.81736455,  14.43418138,  15.05099822, 15.66781506,  16.2846319 ]])\n",
    "scores_diff = np.abs(scores - correct_scores).sum()\n",
    "assert scores_diff < 1e-6, 'Problem with test-time forward pass: %f' % scores_diff\n",
    "\n",
    "print 'Testing training loss (no regularization)'\n",
    "y = np.asarray([0, 5, 1])\n",
    "loss, grads = model.loss(X, y)\n",
    "correct_loss = 3.4702243556\n",
    "assert abs(loss - correct_loss) < 1e-10, 'Problem with training-time loss'\n",
    "\n",
    "model.reg = 1.0\n",
    "loss, grads = model.loss(X, y)\n",
    "correct_loss = 26.5948426952\n",
    "assert abs(loss - correct_loss) < 1e-10, 'Problem with regularization loss'\n",
    "\n",
    "for reg in [0.0, 0.7]:\n",
    "  print 'Running numeric gradient check with reg = ', reg\n",
    "  model.reg = reg\n",
    "  loss, grads = model.loss(X, y)\n",
    "\n",
    "  for name in sorted(grads):\n",
    "    f = lambda _: model.loss(X, y)[0]\n",
    "    grad_num = eval_numerical_gradient(f, model.params[name], verbose=False)\n",
    "    print '%s relative error: %.2e' % (name, rel_error(grad_num, grads[name]))"
   ]
  },
  {
   "cell_type": "markdown",
   "metadata": {
    "deletable": true,
    "editable": true
   },
   "source": [
    "# Optimization\n",
    "To train the newly built network you need to update the weights with *gradient descent*. Implement the `sgd` update rule function, in `code/optim.py`. This is a modular function that simply takes in some weights **w**, some gradients **dw** and a configuration dictionary.\n",
    "\n",
    "Test the update function with the code below:"
   ]
  },
  {
   "cell_type": "code",
   "execution_count": 178,
   "metadata": {
    "collapsed": false,
    "deletable": true,
    "editable": true
   },
   "outputs": [
    {
     "name": "stdout",
     "output_type": "stream",
     "text": [
      "next_w error:  2.51846864158e-08\n"
     ]
    }
   ],
   "source": [
    "from code.optim import sgd\n",
    "\n",
    "N, D = 4, 5\n",
    "w = np.linspace(-0.4, 0.6, num=N*D).reshape(N, D)\n",
    "dw = np.linspace(-0.6, 0.4, num=N*D).reshape(N, D)\n",
    "v = np.linspace(0.6, 0.9, num=N*D).reshape(N, D)\n",
    "\n",
    "config = {'learning_rate': 1e-3}\n",
    "next_w, _ = sgd(w, dw, config=config)\n",
    "expected_next_w = np.asarray([\n",
    " [-0.3994,     -0.34682105, -0.29424211, -0.24166316, -0.18908421],\n",
    " [-0.13650526, -0.08392632, -0.03134737,  0.02123158,  0.07381053],\n",
    " [ 0.12638947,  0.17896842,  0.23154737,  0.28412632,  0.33670526],\n",
    " [ 0.38928421,  0.44186316,  0.49444211,  0.54702105,  0.5996    ]])\n",
    "\n",
    "\n",
    "print 'next_w error: ', rel_error(next_w, expected_next_w)"
   ]
  },
  {
   "cell_type": "markdown",
   "metadata": {
    "deletable": true,
    "editable": true
   },
   "source": [
    "# Solver\n",
    "In the previous parts of this assignment, the logic for training models was coupled to the models themselves. Following a more modular design, for part we have split the logic for training models into a separate class.\n",
    "\n",
    "Open the file `code/solver.py` and read through it to familiarize yourself with the API. After doing so, use a `Solver` instance to train a `TwoLayerNet` that achieves at least `50%` accuracy on the validation set."
   ]
  },
  {
   "cell_type": "code",
   "execution_count": 196,
   "metadata": {
    "collapsed": false,
    "deletable": true,
    "editable": true
   },
   "outputs": [
    {
     "name": "stdout",
     "output_type": "stream",
     "text": [
      "(Iteration 1 / 1960) loss: 2.452692\n",
      "(Epoch 0 / 10) train acc: 0.180000; val_acc: 0.139000\n",
      "(Iteration 101 / 1960) loss: 1.867162\n",
      "(Epoch 1 / 10) train acc: 0.425000; val_acc: 0.443000\n",
      "(Iteration 201 / 1960) loss: 1.721700\n",
      "(Iteration 301 / 1960) loss: 1.708383\n",
      "(Epoch 2 / 10) train acc: 0.485000; val_acc: 0.457000\n",
      "(Iteration 401 / 1960) loss: 1.690778\n",
      "(Iteration 501 / 1960) loss: 1.648466\n",
      "(Epoch 3 / 10) train acc: 0.484000; val_acc: 0.467000\n",
      "(Iteration 601 / 1960) loss: 1.667173\n",
      "(Iteration 701 / 1960) loss: 1.534466\n",
      "(Epoch 4 / 10) train acc: 0.524000; val_acc: 0.507000\n",
      "(Iteration 801 / 1960) loss: 1.567546\n",
      "(Iteration 901 / 1960) loss: 1.523643\n",
      "(Epoch 5 / 10) train acc: 0.562000; val_acc: 0.500000\n",
      "(Iteration 1001 / 1960) loss: 1.446697\n",
      "(Iteration 1101 / 1960) loss: 1.454124\n",
      "(Epoch 6 / 10) train acc: 0.558000; val_acc: 0.516000\n",
      "(Iteration 1201 / 1960) loss: 1.356707\n",
      "(Iteration 1301 / 1960) loss: 1.444839\n",
      "(Epoch 7 / 10) train acc: 0.530000; val_acc: 0.499000\n",
      "(Iteration 1401 / 1960) loss: 1.502658\n",
      "(Iteration 1501 / 1960) loss: 1.460932\n",
      "(Epoch 8 / 10) train acc: 0.513000; val_acc: 0.509000\n",
      "(Iteration 1601 / 1960) loss: 1.299034\n",
      "(Iteration 1701 / 1960) loss: 1.452813\n",
      "(Epoch 9 / 10) train acc: 0.584000; val_acc: 0.520000\n",
      "(Iteration 1801 / 1960) loss: 1.372344\n",
      "(Iteration 1901 / 1960) loss: 1.331461\n",
      "(Epoch 10 / 10) train acc: 0.557000; val_acc: 0.516000\n"
     ]
    }
   ],
   "source": [
    "model = TwoLayerNet(hidden_dim=200, reg=0.5)\n",
    "solver = None\n",
    "\n",
    "##############################################################################\n",
    "# TODO: Use a Solver instance to train a TwoLayerNet that achieves at least  #\n",
    "# 50% accuracy on the validation set.                                        #\n",
    "##############################################################################\n",
    "solver = Solver(model, data,\n",
    "                update_rule='sgd',\n",
    "                optim_config={\n",
    "                    'learning_rate': 1e-3,\n",
    "                },\n",
    "                lr_decay=0.95,\n",
    "                num_epochs=10, batch_size=250,\n",
    "                print_every=100)\n",
    "solver.train()\n",
    "##############################################################################\n",
    "#                             END OF YOUR CODE                               #\n",
    "##############################################################################"
   ]
  },
  {
   "cell_type": "code",
   "execution_count": 197,
   "metadata": {
    "collapsed": false,
    "deletable": true,
    "editable": true
   },
   "outputs": [
    {
     "data": {
      "image/png": "[encoded data removed]",
      "text/plain": [
       "<matplotlib.figure.Figure at 0x7f11b7705390>"
      ]
     },
     "metadata": {},
     "output_type": "display_data"
    }
   ],
   "source": [
    "# Run this cell to visualize training loss and train / val accuracy\n",
    "\n",
    "plt.subplot(2, 1, 1)\n",
    "plt.title('Training loss')\n",
    "plt.plot(solver.loss_history, 'o')\n",
    "plt.xlabel('Iteration')\n",
    "\n",
    "plt.subplot(2, 1, 2)\n",
    "plt.title('Accuracy')\n",
    "plt.plot(solver.train_acc_history, '-o', label='train')\n",
    "plt.plot(solver.val_acc_history, '-o', label='val')\n",
    "plt.plot([0.5] * len(solver.val_acc_history), 'k--')\n",
    "plt.xlabel('Epoch')\n",
    "plt.legend(loc='lower right')\n",
    "plt.gcf().set_size_inches(15, 12)\n",
    "plt.show()"
   ]
  },
  {
   "cell_type": "markdown",
   "metadata": {
    "deletable": true,
    "editable": true
   },
   "source": [
    "# Multilayer network\n",
    "Next you will implement a fully-connected network with an arbitrary number of hidden layers.\n",
    "\n",
    "Read through the `FullyConnectedNet` class in the file `code/classifiers/fc_net.py`.\n",
    "\n",
    "Implement the initialization, the forward pass, and the backward pass. For the moment don't worry about implementing dropout or batch normalization; we will add those features soon."
   ]
  },
  {
   "cell_type": "markdown",
   "metadata": {
    "deletable": true,
    "editable": true
   },
   "source": [
    "## Initial loss and gradient check"
   ]
  },
  {
   "cell_type": "markdown",
   "metadata": {
    "deletable": true,
    "editable": true
   },
   "source": [
    "As a sanity check, run the following to check the initial loss and to gradient check the network both with and without regularization. Do the initial losses seem reasonable?\n",
    "\n",
    "For gradient checking, you should expect to see errors around 1e-6 or less."
   ]
  },
  {
   "cell_type": "code",
   "execution_count": 246,
   "metadata": {
    "collapsed": false,
    "deletable": true,
    "editable": true
   },
   "outputs": [
    {
     "name": "stdout",
     "output_type": "stream",
     "text": [
      "Running check with reg =  0\n",
      "Initial loss:  2.30006136412\n",
      "W1 relative error: 1.14e-07\n",
      "W2 relative error: 1.45e-06\n",
      "W3 relative error: 4.79e-07\n",
      "b1 relative error: 8.25e-09\n",
      "b2 relative error: 3.30e-08\n",
      "b3 relative error: 1.18e-10\n",
      "Running check with reg =  3.14\n",
      "Initial loss:  7.29774078025\n",
      "W1 relative error: 2.17e-08\n",
      "W2 relative error: 3.03e-08\n",
      "W3 relative error: 4.97e-08\n",
      "b1 relative error: 9.92e-07\n",
      "b2 relative error: 6.58e-09\n",
      "b3 relative error: 2.96e-10\n"
     ]
    }
   ],
   "source": [
    "N, D, H1, H2, C = 2, 15, 20, 30, 10\n",
    "X = np.random.randn(N, D)\n",
    "y = np.random.randint(C, size=(N,))\n",
    "\n",
    "for reg in [0, 3.14]:\n",
    "  print 'Running check with reg = ', reg\n",
    "  model = FullyConnectedNet([H1, H2], input_dim=D, num_classes=C,\n",
    "                            reg=reg, weight_scale=5e-2, dtype=np.float64)\n",
    "\n",
    "  loss, grads = model.loss(X, y)\n",
    "  print 'Initial loss: ', loss\n",
    "\n",
    "  for name in sorted(grads):\n",
    "    f = lambda _: model.loss(X, y)[0]\n",
    "    grad_num = eval_numerical_gradient(f, model.params[name], verbose=False, h=1e-5)\n",
    "    print '%s relative error: %.2e' % (name, rel_error(grad_num, grads[name]))"
   ]
  },
  {
   "cell_type": "markdown",
   "metadata": {
    "deletable": true,
    "editable": true
   },
   "source": [
    "As another sanity check, make sure you can overfit a small dataset of 50 images. First we will try a three-layer network with 100 units in each hidden layer. You will need to tweak the learning rate and initialization scale, but you should be able to overfit and achieve 100% training accuracy within 20 epochs."
   ]
  },
  {
   "cell_type": "code",
   "execution_count": 247,
   "metadata": {
    "collapsed": false,
    "deletable": true,
    "editable": true,
    "scrolled": false
   },
   "outputs": [
    {
     "name": "stdout",
     "output_type": "stream",
     "text": [
      "(Iteration 1 / 40) loss: 2.315070\n",
      "(Epoch 0 / 20) train acc: 0.360000; val_acc: 0.118000\n",
      "(Epoch 1 / 20) train acc: 0.380000; val_acc: 0.132000\n",
      "(Epoch 2 / 20) train acc: 0.420000; val_acc: 0.132000\n",
      "(Epoch 3 / 20) train acc: 0.380000; val_acc: 0.103000\n",
      "(Epoch 4 / 20) train acc: 0.640000; val_acc: 0.130000\n",
      "(Epoch 5 / 20) train acc: 0.560000; val_acc: 0.158000\n",
      "(Iteration 11 / 40) loss: 1.408716\n",
      "(Epoch 6 / 20) train acc: 0.660000; val_acc: 0.140000\n",
      "(Epoch 7 / 20) train acc: 0.840000; val_acc: 0.161000\n",
      "(Epoch 8 / 20) train acc: 0.780000; val_acc: 0.183000\n",
      "(Epoch 9 / 20) train acc: 0.880000; val_acc: 0.143000\n",
      "(Epoch 10 / 20) train acc: 0.800000; val_acc: 0.139000\n",
      "(Iteration 21 / 40) loss: 0.550812\n",
      "(Epoch 11 / 20) train acc: 0.780000; val_acc: 0.139000\n",
      "(Epoch 12 / 20) train acc: 0.940000; val_acc: 0.169000\n",
      "(Epoch 13 / 20) train acc: 1.000000; val_acc: 0.187000\n",
      "(Epoch 14 / 20) train acc: 0.960000; val_acc: 0.188000\n",
      "(Epoch 15 / 20) train acc: 0.980000; val_acc: 0.173000\n",
      "(Iteration 31 / 40) loss: 0.245199\n",
      "(Epoch 16 / 20) train acc: 0.980000; val_acc: 0.193000\n",
      "(Epoch 17 / 20) train acc: 0.980000; val_acc: 0.198000\n",
      "(Epoch 18 / 20) train acc: 1.000000; val_acc: 0.186000\n",
      "(Epoch 19 / 20) train acc: 1.000000; val_acc: 0.183000\n",
      "(Epoch 20 / 20) train acc: 1.000000; val_acc: 0.190000\n"
     ]
    },
    {
     "data": {
      "image/png": "[encoded data removed]",
      "text/plain": [
       "<matplotlib.figure.Figure at 0x7f11baa45ed0>"
      ]
     },
     "metadata": {},
     "output_type": "display_data"
    }
   ],
   "source": [
    "# TODO: Use a three-layer Net to overfit 50 training examples.\n",
    "\n",
    "num_train = 50\n",
    "small_data = {\n",
    "  'X_train': data['X_train'][:num_train],\n",
    "  'y_train': data['y_train'][:num_train],\n",
    "  'X_val': data['X_val'],\n",
    "  'y_val': data['y_val'],\n",
    "}\n",
    "\n",
    "weight_scale = 1e-2\n",
    "learning_rate = 1e-2\n",
    "model = FullyConnectedNet([100, 100],\n",
    "              weight_scale=weight_scale, dtype=np.float64)\n",
    "solver = Solver(model, small_data,\n",
    "                print_every=10, num_epochs=20, batch_size=25,\n",
    "                update_rule='sgd',\n",
    "                optim_config={\n",
    "                  'learning_rate': learning_rate,\n",
    "                }\n",
    "         )\n",
    "solver.train()\n",
    "\n",
    "plt.plot(solver.loss_history, 'o')\n",
    "plt.title('Training loss history')\n",
    "plt.xlabel('Iteration')\n",
    "plt.ylabel('Training loss')\n",
    "plt.show()"
   ]
  },
  {
   "cell_type": "markdown",
   "metadata": {
    "deletable": true,
    "editable": true
   },
   "source": [
    "Now try to use a five-layer network with 100 units on each layer to overfit 50 training examples. Again you will have to adjust the learning rate and weight initialization, but you should be able to achieve 100% training accuracy within 20 epochs."
   ]
  },
  {
   "cell_type": "code",
   "execution_count": 250,
   "metadata": {
    "collapsed": false,
    "deletable": true,
    "editable": true,
    "scrolled": true
   },
   "outputs": [
    {
     "name": "stdout",
     "output_type": "stream",
     "text": [
      "(Iteration 1 / 40) loss: 3.254577\n",
      "(Epoch 0 / 20) train acc: 0.220000; val_acc: 0.100000\n",
      "(Epoch 1 / 20) train acc: 0.200000; val_acc: 0.098000\n",
      "(Epoch 2 / 20) train acc: 0.500000; val_acc: 0.151000\n",
      "(Epoch 3 / 20) train acc: 0.740000; val_acc: 0.138000\n",
      "(Epoch 4 / 20) train acc: 0.780000; val_acc: 0.142000\n",
      "(Epoch 5 / 20) train acc: 0.900000; val_acc: 0.151000\n",
      "(Iteration 11 / 40) loss: 0.624545\n",
      "(Epoch 6 / 20) train acc: 0.980000; val_acc: 0.152000\n",
      "(Epoch 7 / 20) train acc: 1.000000; val_acc: 0.152000\n",
      "(Epoch 8 / 20) train acc: 1.000000; val_acc: 0.148000\n",
      "(Epoch 9 / 20) train acc: 1.000000; val_acc: 0.152000\n",
      "(Epoch 10 / 20) train acc: 0.980000; val_acc: 0.154000\n",
      "(Iteration 21 / 40) loss: 0.123340\n",
      "(Epoch 11 / 20) train acc: 1.000000; val_acc: 0.156000\n",
      "(Epoch 12 / 20) train acc: 1.000000; val_acc: 0.160000\n",
      "(Epoch 13 / 20) train acc: 1.000000; val_acc: 0.160000\n",
      "(Epoch 14 / 20) train acc: 1.000000; val_acc: 0.154000\n",
      "(Epoch 15 / 20) train acc: 1.000000; val_acc: 0.162000\n",
      "(Iteration 31 / 40) loss: 0.046656\n",
      "(Epoch 16 / 20) train acc: 1.000000; val_acc: 0.168000\n",
      "(Epoch 17 / 20) train acc: 1.000000; val_acc: 0.165000\n",
      "(Epoch 18 / 20) train acc: 1.000000; val_acc: 0.168000\n",
      "(Epoch 19 / 20) train acc: 1.000000; val_acc: 0.169000\n",
      "(Epoch 20 / 20) train acc: 1.000000; val_acc: 0.165000\n"
     ]
    }
   ],
   "source": [
    "# TODO: Use a five-layer Net to overfit 50 training examples.\n",
    "\n",
    "num_train = 50\n",
    "small_data = {\n",
    "  'X_train': data['X_train'][:num_train],\n",
    "  'y_train': data['y_train'][:num_train],\n",
    "  'X_val': data['X_val'],\n",
    "  'y_val': data['y_val'],\n",
    "}\n",
    "\n",
    "learning_rate = 1e-2\n",
    "weight_scale = 5e-2\n",
    "model = FullyConnectedNet([100, 100, 100, 100],\n",
    "                weight_scale=weight_scale, dtype=np.float64)\n",
    "solver = Solver(model, small_data,\n",
    "                print_every=10, num_epochs=20, batch_size=25,\n",
    "                update_rule='sgd',\n",
    "                optim_config={\n",
    "                  'learning_rate': learning_rate,\n",
    "                }\n",
    "         )\n",
    "solver.train()"
   ]
  },
  {
   "cell_type": "markdown",
   "metadata": {
    "deletable": true,
    "editable": true
   },
   "source": [
    "# Inline question: \n",
    "Did you notice anything about the comparative difficulty of training the three-layer net vs training the five layer net?\n",
    "\n",
    "# Answer:\n",
    "The five-layer network can much easier adopt to the data and achieve faster overfitting.\n",
    "This indicates, that a five layer network might be too much for the data we want to fit as we can not sufficiently make use of the available storage and adaptability.\n"
   ]
  },
  {
   "cell_type": "markdown",
   "metadata": {
    "deletable": true,
    "editable": true
   },
   "source": [
    "# Train a good model!\n",
    "Train the best fully-connected model that you can on CIFAR-10, storing your best solver in the `best_solver` variable. Get at least 50% accuracy on the validation set using a fully-connected net."
   ]
  },
  {
   "cell_type": "code",
   "execution_count": 276,
   "metadata": {
    "collapsed": false,
    "scrolled": false
   },
   "outputs": [
    {
     "name": "stdout",
     "output_type": "stream",
     "text": [
      "(Iteration 1 / 3920) loss: 2.303358\n",
      "(Epoch 0 / 20) train acc: 0.143000; val_acc: 0.101000\n",
      "(Epoch 1 / 20) train acc: 0.371000; val_acc: 0.422000\n",
      "(Iteration 201 / 3920) loss: 1.667728\n",
      "(Epoch 2 / 20) train acc: 0.423000; val_acc: 0.450000\n",
      "(Iteration 401 / 3920) loss: 1.509794\n",
      "(Epoch 3 / 20) train acc: 0.483000; val_acc: 0.452000\n",
      "(Iteration 601 / 3920) loss: 1.525480\n",
      "(Epoch 4 / 20) train acc: 0.502000; val_acc: 0.473000\n",
      "(Iteration 801 / 3920) loss: 1.482512\n",
      "(Epoch 5 / 20) train acc: 0.476000; val_acc: 0.481000\n",
      "(Iteration 1001 / 3920) loss: 1.543243\n",
      "(Epoch 6 / 20) train acc: 0.507000; val_acc: 0.474000\n",
      "(Iteration 1201 / 3920) loss: 1.384828\n",
      "(Epoch 7 / 20) train acc: 0.507000; val_acc: 0.491000\n",
      "(Iteration 1401 / 3920) loss: 1.461001\n",
      "(Epoch 8 / 20) train acc: 0.504000; val_acc: 0.503000\n",
      "(Iteration 1601 / 3920) loss: 1.327670\n",
      "(Epoch 9 / 20) train acc: 0.536000; val_acc: 0.498000\n",
      "(Iteration 1801 / 3920) loss: 1.447418\n",
      "(Epoch 10 / 20) train acc: 0.516000; val_acc: 0.504000\n",
      "(Iteration 2001 / 3920) loss: 1.350624\n",
      "(Epoch 11 / 20) train acc: 0.508000; val_acc: 0.509000\n",
      "(Iteration 2201 / 3920) loss: 1.369412\n",
      "(Epoch 12 / 20) train acc: 0.527000; val_acc: 0.507000\n",
      "(Iteration 2401 / 3920) loss: 1.430248\n",
      "(Epoch 13 / 20) train acc: 0.559000; val_acc: 0.500000\n",
      "(Iteration 2601 / 3920) loss: 1.381236\n",
      "(Epoch 14 / 20) train acc: 0.524000; val_acc: 0.507000\n",
      "(Iteration 2801 / 3920) loss: 1.311472\n",
      "(Epoch 15 / 20) train acc: 0.549000; val_acc: 0.511000\n",
      "(Iteration 3001 / 3920) loss: 1.217922\n",
      "(Epoch 16 / 20) train acc: 0.568000; val_acc: 0.513000\n",
      "(Iteration 3201 / 3920) loss: 1.209301\n",
      "(Epoch 17 / 20) train acc: 0.535000; val_acc: 0.505000\n",
      "(Iteration 3401 / 3920) loss: 1.341474\n",
      "(Epoch 18 / 20) train acc: 0.536000; val_acc: 0.513000\n",
      "(Iteration 3601 / 3920) loss: 1.164161\n",
      "(Epoch 19 / 20) train acc: 0.545000; val_acc: 0.513000\n",
      "(Iteration 3801 / 3920) loss: 1.270784\n",
      "(Epoch 20 / 20) train acc: 0.578000; val_acc: 0.512000\n"
     ]
    },
    {
     "data": {
      "image/png": "[encoded data removed]",
      "text/plain": [
       "<matplotlib.figure.Figure at 0x7f11b7171c10>"
      ]
     },
     "metadata": {},
     "output_type": "display_data"
    }
   ],
   "source": [
    "lr = 1e-4\n",
    "ws = 2e-2\n",
    "model = FullyConnectedNet([100, 100, 100, 100],\n",
    "                weight_scale=ws, dtype=np.float64)\n",
    "\n",
    "solver = Solver(model, data,\n",
    "                print_every=200, num_epochs=20, batch_size=250,\n",
    "                verbose=True,\n",
    "                update_rule='adam',\n",
    "                optim_config={\n",
    "                  'learning_rate': lr,\n",
    "                }\n",
    "         )\n",
    "solver.train()\n",
    "################################################################################\n",
    "#                              END OF YOUR CODE                                #\n",
    "################################################################################\n",
    "best_model = best_solver.model\n",
    "\n",
    "plt.plot(solver.loss_history, 'o')\n",
    "plt.title('Training loss history')\n",
    "plt.xlabel('Iteration')\n",
    "plt.ylabel('Training loss')\n",
    "plt.show()"
   ]
  },
  {
   "cell_type": "code",
   "execution_count": 272,
   "metadata": {
    "collapsed": false,
    "deletable": true,
    "editable": true,
    "scrolled": false
   },
   "outputs": [
    {
     "name": "stdout",
     "output_type": "stream",
     "text": [
      "1.00e-03 / 7.00e-02 / sgd / 0.3770\n",
      "1.00e-03 / 7.00e-02 / sgd_momentum / 0.4420\n",
      "1.00e-03 / 7.00e-02 / rmsprop / 0.5170\n",
      "1.00e-03 / 3.00e-02 / rmsprop / 0.5390\n",
      "1.00e-03 / 1.00e-02 / adam / 0.5490\n"
     ]
    },
    {
     "data": {
      "image/png": "[encoded data removed]",
      "text/plain": [
       "<matplotlib.figure.Figure at 0x7f11b4cccad0>"
      ]
     },
     "metadata": {},
     "output_type": "display_data"
    }
   ],
   "source": [
    "best_solver = None\n",
    "best_acc = 0\n",
    "################################################################################\n",
    "# TODO: Train the best FullyConnectedNet that you can on CIFAR-10. You might   #\n",
    "# batch normalization and dropout useful. Store your best model in the         #\n",
    "# best_model variable.                                                         #\n",
    "################################################################################\n",
    "\n",
    "learning_rates = [1e-4, 1e-3, 1e-2, 3e-2, 6e-2, 1e-1]\n",
    "weight_scales = [1e-3, 1e-2, 3e-1]\n",
    "update_rules = ['sgd', 'sgd_momentum', 'rmsprop', 'adam']\n",
    "for lr in learning_rates:\n",
    "    for ws in weight_scales:\n",
    "        for ur in update_rules:\n",
    "            model = FullyConnectedNet([100, 100, 100, 100],\n",
    "                            weight_scale=ws, dtype=np.float64)\n",
    "\n",
    "            solver = Solver(model, data,\n",
    "                            print_every=200, num_epochs=20, batch_size=250,\n",
    "                            verbose=False,\n",
    "                            update_rule=ur,\n",
    "                            optim_config={\n",
    "                              'learning_rate': lr,\n",
    "                            }\n",
    "                     )\n",
    "            solver.train()\n",
    "            acc = solver.check_accuracy(data['X_val'], data['y_val'])\n",
    "            if acc > best_acc:\n",
    "                best_solver = solver\n",
    "                best_acc = acc\n",
    "                print('%.2e / %.2e / %s / %.4f' % (lr, ws, ur, acc))\n",
    "################################################################################\n",
    "#                              END OF YOUR CODE                                #\n",
    "################################################################################\n",
    "best_model = best_solver.model\n",
    "\n",
    "plt.plot(best_solver.loss_history, 'o')\n",
    "plt.title('Training loss history')\n",
    "plt.xlabel('Iteration')\n",
    "plt.ylabel('Training loss')\n",
    "plt.show()"
   ]
  },
  {
   "cell_type": "markdown",
   "metadata": {
    "deletable": true,
    "editable": true
   },
   "source": [
    "# Test you model\n",
    "Run your best model on the validation and test sets. You should achieve above 50% accuracy on the validation set."
   ]
  },
  {
   "cell_type": "code",
   "execution_count": 274,
   "metadata": {
    "collapsed": false,
    "deletable": true,
    "editable": true
   },
   "outputs": [
    {
     "name": "stdout",
     "output_type": "stream",
     "text": [
      "Validation set accuracy:  0.549\n",
      "Test set accuracy:  0.546\n"
     ]
    }
   ],
   "source": [
    "y_test_pred = np.argmax(best_model.loss(data['X_test']), axis=1)\n",
    "y_val_pred = np.argmax(best_model.loss(data['X_val']), axis=1)\n",
    "print 'Validation set accuracy: ', (y_val_pred == data['y_val']).mean()\n",
    "print 'Test set accuracy: ', (y_test_pred == data['y_test']).mean()"
   ]
  }
 ],
 "metadata": {
  "kernelspec": {
   "display_name": "Python [default]",
   "language": "python",
   "name": "python2"
  },
  "language_info": {
   "codemirror_mode": {
    "name": "ipython",
    "version": 2
   },
   "file_extension": ".py",
   "mimetype": "text/x-python",
   "name": "python",
   "nbconvert_exporter": "python",
   "pygments_lexer": "ipython2",
   "version": "2.7.13"
  }
 },
 "nbformat": 4,
 "nbformat_minor": 0
}
